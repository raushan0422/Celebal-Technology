{
 "cells": [
  {
   "cell_type": "code",
   "execution_count": 7,
   "id": "c69bfa88-a3bb-4622-a645-2778e9e6aac0",
   "metadata": {},
   "outputs": [],
   "source": [
    "class Node:\n",
    "    def __init__(self, data):\n",
    "        self.data = data\n",
    "        self.next = None"
   ]
  },
  {
   "cell_type": "code",
   "execution_count": 8,
   "id": "7db7d9da-0d14-424d-8faa-ae0877ce5d62",
   "metadata": {},
   "outputs": [],
   "source": [
    "class LinkedList:\n",
    "    def __init__(self):\n",
    "        self.head = None\n",
    "\n",
    "    def add_node(self, data):\n",
    "        new_node = Node(data)\n",
    "        if not self.head:\n",
    "            self.head = new_node\n",
    "            return\n",
    "        temp = self.head\n",
    "        while temp.next:\n",
    "            temp = temp.next\n",
    "        temp.next = new_node\n",
    "\n",
    "    def print_list(self):\n",
    "        if not self.head:\n",
    "            print(\"List is empty.\")\n",
    "            return\n",
    "        current = self.head\n",
    "        while current:\n",
    "            print(current.data, end=\" -> \")\n",
    "            current = current.next\n",
    "        print(\"None\")\n",
    "\n",
    "    def delete_nth_node(self, n):\n",
    "        if not self.head:\n",
    "            raise Exception(\"Cannot delete from an empty list.\")\n",
    "        if n <= 0:\n",
    "            raise Exception(\"Invalid index. Index must be >= 1.\")\n",
    "        if n == 1:\n",
    "            print(f\"Deleting node at position {n} with value {self.head.data}\")\n",
    "            self.head = self.head.next\n",
    "            return\n",
    "        temp = self.head\n",
    "        for i in range(n - 2):\n",
    "            if not temp.next:\n",
    "                raise Exception(\"Index out of range.\")\n",
    "            temp = temp.next\n",
    "        if not temp.next:\n",
    "            raise Exception(\"Index out of range.\")\n",
    "        print(f\"Deleting node at position {n} with value {temp.next.data}\")\n",
    "        temp.next = temp.next.next"
   ]
  },
  {
   "cell_type": "code",
   "execution_count": 9,
   "id": "e84c966b-51b5-4475-93ed-112e33c83b61",
   "metadata": {},
   "outputs": [
    {
     "name": "stdout",
     "output_type": "stream",
     "text": [
      "Initial Linked List:\n",
      "10 -> 20 -> 30 -> 40 -> 50 -> None\n",
      "Deleting node at position 3 with value 30\n",
      "After deleting 3rd node:\n",
      "10 -> 20 -> 40 -> 50 -> None\n",
      "Error: Index out of range.\n",
      "Deleting node at position 1 with value 10\n",
      "After deleting head node:\n",
      "20 -> 40 -> 50 -> None\n",
      "Error: Cannot delete from an empty list.\n"
     ]
    }
   ],
   "source": [
    "if __name__ == \"__main__\":\n",
    "    ll = LinkedList()\n",
    "    sample_data = [10, 20, 30, 40, 50]\n",
    "    for value in sample_data:\n",
    "        ll.add_node(value)\n",
    "    print(\"Initial Linked List:\")\n",
    "    ll.print_list()\n",
    "    ll.delete_nth_node(3)\n",
    "    print(\"After deleting 3rd node:\")\n",
    "    ll.print_list()\n",
    "    try:\n",
    "        ll.delete_nth_node(10)\n",
    "    except Exception as e:\n",
    "        print(\"Error:\", e)\n",
    "    ll.delete_nth_node(1)\n",
    "    print(\"After deleting head node:\")\n",
    "    ll.print_list()\n",
    "    ll = LinkedList()\n",
    "    try:\n",
    "        ll.delete_nth_node(1)\n",
    "    except Exception as e:\n",
    "        print(\"Error:\", e)"
   ]
  },
  {
   "cell_type": "code",
   "execution_count": null,
   "id": "acf5b2ee-60a7-4afb-ab73-63e5590a3baa",
   "metadata": {},
   "outputs": [],
   "source": []
  },
  {
   "cell_type": "code",
   "execution_count": null,
   "id": "679faeba-da5c-42fc-98f5-c7efe8ccb165",
   "metadata": {},
   "outputs": [],
   "source": []
  }
 ],
 "metadata": {
  "kernelspec": {
   "display_name": "Python 3 (ipykernel)",
   "language": "python",
   "name": "python3"
  },
  "language_info": {
   "codemirror_mode": {
    "name": "ipython",
    "version": 3
   },
   "file_extension": ".py",
   "mimetype": "text/x-python",
   "name": "python",
   "nbconvert_exporter": "python",
   "pygments_lexer": "ipython3",
   "version": "3.12.7"
  }
 },
 "nbformat": 4,
 "nbformat_minor": 5
}
