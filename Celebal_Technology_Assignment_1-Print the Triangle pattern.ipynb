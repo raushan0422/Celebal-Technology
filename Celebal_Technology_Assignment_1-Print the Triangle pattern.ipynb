{
 "cells": [
  {
   "cell_type": "code",
   "execution_count": 1,
   "id": "268ea9a5-9df7-4eed-8c99-050c970d4b7d",
   "metadata": {},
   "outputs": [
    {
     "name": "stdout",
     "output_type": "stream",
     "text": [
      "* \n",
      "* * \n",
      "* * * \n",
      "* * * * \n",
      "* * * * * \n",
      "* * * * * * \n",
      "* * * * * * * \n"
     ]
    }
   ],
   "source": [
    "rows = 7\n",
    "for i in range(1, rows + 1):\n",
    "    print(\"* \" * i)\n"
   ]
  },
  {
   "cell_type": "code",
   "execution_count": 2,
   "id": "7dcecfc1-6f72-4233-8d8c-65a2bcc1d72c",
   "metadata": {},
   "outputs": [
    {
     "name": "stdout",
     "output_type": "stream",
     "text": [
      "* * * * * * * \n",
      "* * * * * * \n",
      "* * * * * \n",
      "* * * * \n",
      "* * * \n",
      "* * \n",
      "* \n"
     ]
    }
   ],
   "source": [
    "rows = 7\n",
    "for i in range(rows, 0, -1):\n",
    "    print(\"* \" * i)\n"
   ]
  },
  {
   "cell_type": "code",
   "execution_count": 3,
   "id": "4feeeb1a-050b-4416-bbcb-f1f84353d526",
   "metadata": {},
   "outputs": [
    {
     "name": "stdout",
     "output_type": "stream",
     "text": [
      "      * \n",
      "     * * \n",
      "    * * * \n",
      "   * * * * \n",
      "  * * * * * \n",
      " * * * * * * \n",
      "* * * * * * * \n"
     ]
    }
   ],
   "source": [
    "rows = 7\n",
    "for i in range(1, rows + 1):\n",
    "    print(\" \" * (rows - i) + \"* \" * i)\n"
   ]
  },
  {
   "cell_type": "code",
   "execution_count": null,
   "id": "a51313a7-7a22-4f1d-87c9-938852a949e3",
   "metadata": {},
   "outputs": [],
   "source": []
  }
 ],
 "metadata": {
  "kernelspec": {
   "display_name": "Python 3 (ipykernel)",
   "language": "python",
   "name": "python3"
  },
  "language_info": {
   "codemirror_mode": {
    "name": "ipython",
    "version": 3
   },
   "file_extension": ".py",
   "mimetype": "text/x-python",
   "name": "python",
   "nbconvert_exporter": "python",
   "pygments_lexer": "ipython3",
   "version": "3.12.5"
  }
 },
 "nbformat": 4,
 "nbformat_minor": 5
}
